{
  "nbformat": 4,
  "nbformat_minor": 0,
  "metadata": {
    "colab": {
      "provenance": [],
      "authorship_tag": "ABX9TyNx1rSFrY7jMkct0fTjOeHr",
      "include_colab_link": true
    },
    "kernelspec": {
      "name": "python3",
      "display_name": "Python 3"
    },
    "language_info": {
      "name": "python"
    }
  },
  "cells": [
    {
      "cell_type": "markdown",
      "metadata": {
        "id": "view-in-github",
        "colab_type": "text"
      },
      "source": [
        "<a href=\"https://colab.research.google.com/github/DiogoGMelo/Confusion_matrix/blob/main/confusion_matrix.ipynb\" target=\"_parent\"><img src=\"https://colab.research.google.com/assets/colab-badge.svg\" alt=\"Open In Colab\"/></a>"
      ]
    },
    {
      "cell_type": "markdown",
      "source": [
        "* numpy = manipulação de arrays\n",
        "* matplotlib.pyplot = visualização gráfica\n",
        "* seaborn = criar a matriz de cunfusão\n",
        "* tensorflow e keras = treinar e costruir o modelo\n",
        "* sklearn = calcular as metricas de avaliação\n",
        "\n",
        "---\n",
        "\n"
      ],
      "metadata": {
        "id": "CSGnmNENrKYs"
      }
    },
    {
      "cell_type": "code",
      "source": [
        "import numpy as np\n",
        "import matplotlib.pyplot as plt\n",
        "import seaborn as sns\n",
        "import tensorflow as tf\n",
        "from tensorflow import keras\n",
        "from sklearn.metrics import confusion_matrix, accuracy_score, precision_score, recall_score, f1_score"
      ],
      "metadata": {
        "id": "RU_VR7OGjVbE"
      },
      "execution_count": 1,
      "outputs": []
    },
    {
      "cell_type": "markdown",
      "source": [
        "Carrega o MNIST como base de dados para o treinamento contendo imagens manuscritas dos digitos de 0 a 9\n",
        "\n",
        "\n",
        "---\n",
        "\n"
      ],
      "metadata": {
        "id": "92dAsOwbsfmr"
      }
    },
    {
      "cell_type": "code",
      "source": [
        "(x_train, y_train), (x_test, y_test) = keras.datasets.mnist.load_data()"
      ],
      "metadata": {
        "colab": {
          "base_uri": "https://localhost:8080/"
        },
        "id": "4J5Qf3N2jXqv",
        "outputId": "9c90bf22-16e1-441f-80f7-b81c03b2bf51"
      },
      "execution_count": 2,
      "outputs": [
        {
          "output_type": "stream",
          "name": "stdout",
          "text": [
            "Downloading data from https://storage.googleapis.com/tensorflow/tf-keras-datasets/mnist.npz\n",
            "\u001b[1m11490434/11490434\u001b[0m \u001b[32m━━━━━━━━━━━━━━━━━━━━\u001b[0m\u001b[37m\u001b[0m \u001b[1m1s\u001b[0m 0us/step\n"
          ]
        }
      ]
    },
    {
      "cell_type": "markdown",
      "source": [
        "Normalização dos dados, de 255 pixels para entre 0 e 1\n",
        "\n",
        "---\n",
        "\n"
      ],
      "metadata": {
        "id": "f4-6SX-HtMR9"
      }
    },
    {
      "cell_type": "code",
      "source": [
        "x_train = x_train / 255.0\n",
        "x_test = x_test / 255.0"
      ],
      "metadata": {
        "id": "NS0NO8vvjlaD"
      },
      "execution_count": 3,
      "outputs": []
    },
    {
      "cell_type": "markdown",
      "source": [
        "Criando o modelo de rede neural, com 128 neurônios ocultos e 10 neurônios de saída\n",
        "\n",
        "\n",
        "---\n",
        "\n"
      ],
      "metadata": {
        "id": "G_HIymzctquC"
      }
    },
    {
      "cell_type": "code",
      "source": [
        "modelo = keras.Sequential([\n",
        "    keras.layers.Flatten(input_shape=(28, 28)),   # Camada de entrada (achatamento da imagem)\n",
        "    keras.layers.Dense(128, activation='relu'),   # Camada oculta com 128 neurônios\n",
        "    keras.layers.Dense(10, activation='softmax')  # Camada de saída (10 classes para os dígitos 0-9)\n",
        "])"
      ],
      "metadata": {
        "colab": {
          "base_uri": "https://localhost:8080/"
        },
        "id": "koEIWnUbjowW",
        "outputId": "64a80929-bc64-485f-afd2-cff67e0c1677"
      },
      "execution_count": 4,
      "outputs": [
        {
          "output_type": "stream",
          "name": "stderr",
          "text": [
            "/usr/local/lib/python3.11/dist-packages/keras/src/layers/reshaping/flatten.py:37: UserWarning: Do not pass an `input_shape`/`input_dim` argument to a layer. When using Sequential models, prefer using an `Input(shape)` object as the first layer in the model instead.\n",
            "  super().__init__(**kwargs)\n"
          ]
        }
      ]
    },
    {
      "cell_type": "markdown",
      "source": [
        "Compila e treina o modelo\n",
        "\n",
        "---\n",
        "\n"
      ],
      "metadata": {
        "id": "7j2yQI0C5jLy"
      }
    },
    {
      "cell_type": "code",
      "source": [
        "modelo.compile(optimizer='adam',\n",
        "               loss='sparse_categorical_crossentropy',\n",
        "               metrics=['accuracy'])"
      ],
      "metadata": {
        "id": "Z6iX20f1mPVo"
      },
      "execution_count": 5,
      "outputs": []
    },
    {
      "cell_type": "code",
      "source": [
        "modelo.fit(x_train, y_train, epochs=5, validation_data=(x_test, y_test))"
      ],
      "metadata": {
        "colab": {
          "base_uri": "https://localhost:8080/"
        },
        "id": "W_D_LcdDmXKe",
        "outputId": "dce822c4-f282-49d1-8426-bb2d9e55e858"
      },
      "execution_count": 6,
      "outputs": [
        {
          "output_type": "stream",
          "name": "stdout",
          "text": [
            "Epoch 1/5\n",
            "\u001b[1m1875/1875\u001b[0m \u001b[32m━━━━━━━━━━━━━━━━━━━━\u001b[0m\u001b[37m\u001b[0m \u001b[1m6s\u001b[0m 3ms/step - accuracy: 0.8794 - loss: 0.4286 - val_accuracy: 0.9592 - val_loss: 0.1381\n",
            "Epoch 2/5\n",
            "\u001b[1m1875/1875\u001b[0m \u001b[32m━━━━━━━━━━━━━━━━━━━━\u001b[0m\u001b[37m\u001b[0m \u001b[1m7s\u001b[0m 4ms/step - accuracy: 0.9649 - loss: 0.1208 - val_accuracy: 0.9712 - val_loss: 0.0940\n",
            "Epoch 3/5\n",
            "\u001b[1m1875/1875\u001b[0m \u001b[32m━━━━━━━━━━━━━━━━━━━━\u001b[0m\u001b[37m\u001b[0m \u001b[1m5s\u001b[0m 3ms/step - accuracy: 0.9774 - loss: 0.0741 - val_accuracy: 0.9747 - val_loss: 0.0836\n",
            "Epoch 4/5\n",
            "\u001b[1m1875/1875\u001b[0m \u001b[32m━━━━━━━━━━━━━━━━━━━━\u001b[0m\u001b[37m\u001b[0m \u001b[1m6s\u001b[0m 3ms/step - accuracy: 0.9827 - loss: 0.0571 - val_accuracy: 0.9751 - val_loss: 0.0836\n",
            "Epoch 5/5\n",
            "\u001b[1m1875/1875\u001b[0m \u001b[32m━━━━━━━━━━━━━━━━━━━━\u001b[0m\u001b[37m\u001b[0m \u001b[1m10s\u001b[0m 3ms/step - accuracy: 0.9858 - loss: 0.0449 - val_accuracy: 0.9776 - val_loss: 0.0705\n"
          ]
        },
        {
          "output_type": "execute_result",
          "data": {
            "text/plain": [
              "<keras.src.callbacks.history.History at 0x7fa2165aba50>"
            ]
          },
          "metadata": {},
          "execution_count": 6
        }
      ]
    },
    {
      "cell_type": "markdown",
      "source": [
        "Faz previsões para os dados de teste, obtém a classe com maior probabilidade e gera a matriz de confusão\n",
        "\n",
        "---\n",
        "\n"
      ],
      "metadata": {
        "id": "MFmRPbr_9Y8Q"
      }
    },
    {
      "cell_type": "code",
      "source": [
        "y_pred = np.argmax(modelo.predict(x_test), axis=1)\n",
        "\n",
        "cm = confusion_matrix(y_test, y_pred)"
      ],
      "metadata": {
        "colab": {
          "base_uri": "https://localhost:8080/"
        },
        "id": "vn-BsNZsmXrM",
        "outputId": "144a3fee-3554-4deb-d309-bedd9ad9a693"
      },
      "execution_count": 7,
      "outputs": [
        {
          "output_type": "stream",
          "name": "stdout",
          "text": [
            "\u001b[1m313/313\u001b[0m \u001b[32m━━━━━━━━━━━━━━━━━━━━\u001b[0m\u001b[37m\u001b[0m \u001b[1m0s\u001b[0m 1ms/step\n"
          ]
        }
      ]
    },
    {
      "cell_type": "code",
      "source": [
        "plt.figure(figsize=(8,6))\n",
        "sns.heatmap(cm, annot=True, fmt='d', cmap='Blues', xticklabels=range(10), yticklabels=range(10))\n",
        "plt.xlabel('Predito')\n",
        "plt.ylabel('Real')\n",
        "plt.title('Matriz de Confusão')\n",
        "plt.show()"
      ],
      "metadata": {
        "colab": {
          "base_uri": "https://localhost:8080/",
          "height": 564
        },
        "id": "MJEK_9ComvVE",
        "outputId": "0ab412c6-e06d-461c-a505-f7f5660809ba"
      },
      "execution_count": 8,
      "outputs": [
        {
          "output_type": "display_data",
          "data": {
            "text/plain": [
              "<Figure size 800x600 with 2 Axes>"
            ],
            "image/png": "[encoded data removed]"
          },
          "metadata": {}
        }
      ]
    },
    {
      "cell_type": "markdown",
      "source": [
        "Calcula as métricas de avaliação\n",
        "\n",
        "---\n",
        "\n"
      ],
      "metadata": {
        "id": "M2hh3cnPAhQR"
      }
    },
    {
      "cell_type": "code",
      "source": [
        "acuracia = accuracy_score(y_test, y_pred)\n",
        "precisao = precision_score(y_test, y_pred, average='macro')\n",
        "sensibilidade = recall_score(y_test, y_pred, average='macro')  # Recall (Sensibilidade)\n",
        "f1 = f1_score(y_test, y_pred, average='macro')"
      ],
      "metadata": {
        "id": "kLaYYttVmyW0"
      },
      "execution_count": 9,
      "outputs": []
    },
    {
      "cell_type": "code",
      "source": [
        "especificidades = []\n",
        "for classe in range(10):\n",
        "    tn = np.sum(cm) - (np.sum(cm[classe, :]) + np.sum(cm[:, classe]) - cm[classe, classe])\n",
        "    fp = np.sum(cm[:, classe]) - cm[classe, classe]\n",
        "    especificidade = tn / (tn + fp) if (tn + fp) != 0 else 0\n",
        "    especificidades.append(especificidade)\n",
        "especificidade_media = np.mean(especificidades)"
      ],
      "metadata": {
        "id": "scmm-_aHm5jk"
      },
      "execution_count": 10,
      "outputs": []
    },
    {
      "cell_type": "code",
      "source": [
        "print(f\"Acurácia: {acuracia:.4f}\")\n",
        "print(f\"Precisão: {precisao:.4f}\")\n",
        "print(f\"Sensibilidade (Recall): {sensibilidade:.4f}\")\n",
        "print(f\"Especificidade: {especificidade_media:.4f}\")\n",
        "print(f\"F1-score: {f1:.4f}\")"
      ],
      "metadata": {
        "colab": {
          "base_uri": "https://localhost:8080/"
        },
        "id": "WfqLyjU5m7No",
        "outputId": "cbf12e38-5251-4392-868b-235779222792"
      },
      "execution_count": 11,
      "outputs": [
        {
          "output_type": "stream",
          "name": "stdout",
          "text": [
            "Acurácia: 0.9776\n",
            "Precisão: 0.9774\n",
            "Sensibilidade (Recall): 0.9776\n",
            "Especificidade: 0.9975\n",
            "F1-score: 0.9775\n"
          ]
        }
      ]
    }
  ]
}